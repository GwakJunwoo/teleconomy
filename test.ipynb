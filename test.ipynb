{
 "cells": [
  {
   "cell_type": "code",
   "execution_count": null,
   "id": "f16c7100",
   "metadata": {
    "vscode": {
     "languageId": "plaintext"
    }
   },
   "outputs": [],
   "source": [
    "import requests\n",
    "import pandas as pd\n",
    "from bs4 import BeautifulSoup\n",
    "\n",
    "# TradingEconomics 캘린더 페이지 요청\n",
    "url = \"https://tradingeconomics.com/calendar\"\n",
    "headers = {\n",
    "    \"User-Agent\": \"Mozilla/5.0\",\n",
    "}\n",
    "\n",
    "response = requests.get(url, headers=headers)\n",
    "soup = BeautifulSoup(response.text, \"html.parser\")\n",
    "\n",
    "# 경제지표 테이블 찾기\n",
    "table = soup.find(\"table\", {\"id\": \"calendar\"})\n",
    "rows = table.find_all(\"tr\", class_=lambda x: x != \"calendar-header\")  # 헤더 제외\n",
    "\n",
    "data = []\n",
    "for row in rows:\n",
    "    cols = row.find_all(\"td\")\n",
    "    if len(cols) < 8:\n",
    "        continue\n",
    "    time = cols[0].text.strip()\n",
    "    country = cols[1].img[\"title\"].strip() if cols[1].find(\"img\") else \"\"\n",
    "    event = cols[2].text.strip()\n",
    "    actual = cols[3].text.strip()\n",
    "    forecast = cols[4].text.strip()\n",
    "    previous = cols[5].text.strip()\n",
    "    one = cols[6].text.strip()\n",
    "    two = cols[7].text.strip()\n",
    "    data.append({\n",
    "        \"시간\": time,\n",
    "        \"국가\": country,\n",
    "        \"지표명\": event,\n",
    "        \"발표치\": actual,\n",
    "        \"예상치\": forecast,\n",
    "        \"이전치\": previous,\n",
    "    })\n",
    "\n",
    "df_te_calendar = pd.DataFrame(data)\n",
    "print(df_te_calendar)"
   ]
  },
  {
   "cell_type": "code",
   "execution_count": null,
   "id": "06ef3244",
   "metadata": {
    "vscode": {
     "languageId": "plaintext"
    }
   },
   "outputs": [],
   "source": []
  }
 ],
 "metadata": {
  "language_info": {
   "name": "python"
  }
 },
 "nbformat": 4,
 "nbformat_minor": 5
}
